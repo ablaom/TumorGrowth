{
 "cells": [
  {
   "outputs": [],
   "cell_type": "code",
   "source": [
    "using Pkg\n",
    "\n",
    "dir = @__DIR__\n",
    "Pkg.activate(dir)\n",
    "Pkg.instantiate()\n",
    "\n",
    "import TumorGrowth.bertalanffy\n",
    "using Plots\n",
    "\n",
    "times = range(0, 5, length=200)\n",
    "one = fill(1, length(times))\n",
    "linestyles = [:solid :dash :dot :dashdot :dashdotdot]"
   ],
   "metadata": {},
   "execution_count": null
  },
  {
   "cell_type": "markdown",
   "source": [
    "# GENERALIZED BERTALANFFY PLOTS: λ = 1/3 (CLASSICAL CASE)"
   ],
   "metadata": {}
  },
  {
   "outputs": [],
   "cell_type": "code",
   "source": [
    "p = (v0=1/8, v∞=1.0, ω=1.0, λ=1/3)\n",
    "v0s = [1, 1/3, 2/3, 5/4, 3/2]\n",
    "\n",
    "series = Array{Float64}(undef, length(times), 5)\n",
    "for (i, v0) in enumerate(v0s)\n",
    "    series[:,i] = bertalanffy(times, merge(p, (; v0)))\n",
    "end\n",
    "\n",
    "labels = map(v0s) do v0\n",
    "    r = round(v0, sigdigits=3)\n",
    "    \" v0=$r\"\n",
    "end |> permutedims\n",
    "\n",
    "plot(\n",
    "    times,\n",
    "    series;\n",
    "    linecolor=:black,\n",
    "    xlab = \"time, t\",\n",
    "    ylab = \"volume, v(t)\",\n",
    "    labels,\n",
    "    linestyles,\n",
    "    title=\"Generalized Bertalanffy: v∞=1, ω=1, λ=1/3\"\n",
    ")\n",
    "\n",
    "savefig(joinpath(dir, \"bertalanffy_varying_v0.png\"))\n",
    "gui()"
   ],
   "metadata": {},
   "execution_count": null
  },
  {
   "cell_type": "markdown",
   "source": [
    "# GENERALIZED BERTALANFFY PLOTS: V₀=1/3"
   ],
   "metadata": {}
  },
  {
   "outputs": [],
   "cell_type": "code",
   "source": [
    "p = (v0=1/2, v∞=1.0, ω=1.0, λ=1/3)\n",
    "λs = [-1, 0, 1/3, 1]\n",
    "series = Array{Float64}(undef, length(times), 4)\n",
    "for (i, λ) in enumerate(λs)\n",
    "    series[:,i] = bertalanffy(times, merge(p, (; λ)))\n",
    "end\n",
    "\n",
    "labels = map(λs) do λ\n",
    "    r = round(λ, sigdigits=3)\n",
    "    \"λ=$r\"\n",
    "end |> permutedims\n",
    "\n",
    "plot(\n",
    "    times,\n",
    "    series;\n",
    "    linecolor=:black,\n",
    "    xlab = \"time, t\",\n",
    "    ylab = \"volume, v(t)\",\n",
    "    labels,\n",
    "    linestyles,\n",
    "    title=\"Generalized Bertalanffy: v0=1/2, v∞=1, ω=1\"\n",
    ")\n",
    "\n",
    "savefig(joinpath(dir, \"bertalanffy_varying_lambda.png\"))\n",
    "gui()"
   ],
   "metadata": {},
   "execution_count": null
  },
  {
   "cell_type": "markdown",
   "source": [
    "---\n",
    "\n",
    "*This notebook was generated using [Literate.jl](https://github.com/fredrikekre/Literate.jl).*"
   ],
   "metadata": {}
  }
 ],
 "nbformat_minor": 3,
 "metadata": {
  "language_info": {
   "file_extension": ".jl",
   "mimetype": "application/julia",
   "name": "julia",
   "version": "1.10.3"
  },
  "kernelspec": {
   "name": "julia-1.10",
   "display_name": "Julia 1.10.3",
   "language": "julia"
  }
 },
 "nbformat": 4
}
