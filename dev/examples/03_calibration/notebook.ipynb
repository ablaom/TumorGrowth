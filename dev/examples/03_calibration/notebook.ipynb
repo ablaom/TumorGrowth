{
 "cells": [
  {
   "cell_type": "markdown",
   "source": [
    "# Calibration workflows"
   ],
   "metadata": {}
  },
  {
   "cell_type": "markdown",
   "source": [
    "This demonstration is also available in\n",
    "[notebook](https://github.com/ablaom/TumorGrowth.jl/tree/dev/docs/src/examples/03_calibration)\n",
    "form, and has been tested in the Julia package environment specified by\n",
    "[these](https://github.com/ablaom/TumorGrowth.jl/tree/dev/docs/src/examples/03_calibration)\n",
    "Project.toml and Manifest.toml files."
   ],
   "metadata": {}
  },
  {
   "outputs": [],
   "cell_type": "code",
   "source": [
    "using Pkg #hide\n",
    "dir = @__DIR__ #hide\n",
    "Pkg.activate(dir) #hide\n",
    "Pkg.instantiate() #hide\n",
    "\n",
    "using TumorGrowth\n",
    "using Statistics\n",
    "using Plots\n",
    "using IterationControl\n",
    "\n",
    "Plots.scalefontsizes() # reset font sizes\n",
    "Plots.scalefontsizes(0.85)"
   ],
   "metadata": {},
   "execution_count": null
  },
  {
   "cell_type": "markdown",
   "source": [
    "## Data ingestion"
   ],
   "metadata": {}
  },
  {
   "cell_type": "markdown",
   "source": [
    "Get the records which have a least 6 measurements:"
   ],
   "metadata": {}
  },
  {
   "outputs": [],
   "cell_type": "code",
   "source": [
    "records = patient_data();\n",
    "records6 = filter(records) do record\n",
    "    record.readings >= 6\n",
    "end;"
   ],
   "metadata": {},
   "execution_count": null
  },
  {
   "cell_type": "markdown",
   "source": [
    "## Helpers"
   ],
   "metadata": {}
  },
  {
   "cell_type": "markdown",
   "source": [
    "Wrapper to only apply control every 100 steps:"
   ],
   "metadata": {}
  },
  {
   "outputs": [],
   "cell_type": "code",
   "source": [
    "sometimes(control) = IterationControl.skip(control, predicate=100)"
   ],
   "metadata": {},
   "execution_count": null
  },
  {
   "cell_type": "markdown",
   "source": [
    "Wrapper to only apply control after first 30 steps:"
   ],
   "metadata": {}
  },
  {
   "outputs": [],
   "cell_type": "code",
   "source": [
    "warmup(control) = IterationControl.Warmup(control, 30)"
   ],
   "metadata": {},
   "execution_count": null
  },
  {
   "cell_type": "markdown",
   "source": [
    "## Patient A - a volume that is mostly decreasiing"
   ],
   "metadata": {}
  },
  {
   "outputs": [],
   "cell_type": "code",
   "source": [
    "record = records6[2]"
   ],
   "metadata": {},
   "execution_count": null
  },
  {
   "outputs": [],
   "cell_type": "code",
   "source": [
    "times = record.T_weeks\n",
    "volumes = record.Lesion_normvol;"
   ],
   "metadata": {},
   "execution_count": null
  },
  {
   "cell_type": "markdown",
   "source": [
    "We'll try calibrating the General Bertalanffy model, `bertalanffy`, with fixed\n",
    "parameter `λ=1/5`:"
   ],
   "metadata": {}
  },
  {
   "outputs": [],
   "cell_type": "code",
   "source": [
    "problem = CalibrationProblem(\n",
    "    times,\n",
    "    volumes,\n",
    "    bertalanffy;\n",
    "    frozen=(; λ=1/5),\n",
    "    learning_rate=0.001,\n",
    "    half_life=21, # place greater weight on recent measurements\n",
    ")"
   ],
   "metadata": {},
   "execution_count": null
  },
  {
   "cell_type": "markdown",
   "source": [
    "The controls in the `solve!` call below have the following interpretations:"
   ],
   "metadata": {}
  },
  {
   "cell_type": "markdown",
   "source": [
    "- `Step(1)`: compute 1 iteration at a time\n",
    "- `InvalidValue()`: to catch parameters going out of bounds\n",
    "- `NumberLimit(6000)`: stop after 6000 steps\n",
    "- `GL() |> warmup`:  stop using Prechelt's GL criterion after the warm-up period\n",
    "- `NumberSinceBest(10) |> warmup`:  stop when it's 10 steps since the best so far\n",
    "- `Callback(prob-> (plot(prob); gui())) |> sometimes`: periodically plot the problem"
   ],
   "metadata": {}
  },
  {
   "cell_type": "markdown",
   "source": [
    "Some other possible controls are:"
   ],
   "metadata": {}
  },
  {
   "cell_type": "markdown",
   "source": [
    "- `TimeLimit(1/60)`: stop after 1 minute\n",
    "- `WithLossDo()`: log to `Info` the current loss"
   ],
   "metadata": {}
  },
  {
   "cell_type": "markdown",
   "source": [
    "See\n",
    "[IterationControl.jl](https://github.com/JuliaAI/IterationControl.jl?tab=readme-ov-file#controls-provided)\n",
    "for a complete list."
   ],
   "metadata": {}
  },
  {
   "outputs": [],
   "cell_type": "code",
   "source": [
    "solve!(\n",
    "    problem,\n",
    "    Step(1),\n",
    "    InvalidValue(),\n",
    "    NumberLimit(6000),\n",
    "    GL() |> warmup,\n",
    "    NumberSinceBest(10)  |> warmup,\n",
    ")"
   ],
   "metadata": {},
   "execution_count": null
  },
  {
   "cell_type": "markdown",
   "source": [
    "   Callback(prob-> (plot(prob); gui())) |> sometimes,"
   ],
   "metadata": {}
  },
  {
   "outputs": [],
   "cell_type": "code",
   "source": [
    "p = solution(problem)\n",
    "extended_times = vcat(times, [40.0, 47.0])\n",
    "bertalanffy(extended_times, p)"
   ],
   "metadata": {},
   "execution_count": null
  },
  {
   "outputs": [],
   "cell_type": "code",
   "source": [
    "plot(problem, title=\"Patient A, λ=1/5 fixed\", color=:black)"
   ],
   "metadata": {},
   "execution_count": null
  },
  {
   "outputs": [],
   "cell_type": "code",
   "source": [
    "savefig(joinpath(dir, \"patientA.png\"))"
   ],
   "metadata": {},
   "execution_count": null
  },
  {
   "cell_type": "markdown",
   "source": [
    "## Patient B - relapse following initial improvement"
   ],
   "metadata": {}
  },
  {
   "outputs": [],
   "cell_type": "code",
   "source": [
    "record = records6[10]\n",
    "\n",
    "times = record.T_weeks\n",
    "volumes = record.Lesion_normvol;"
   ],
   "metadata": {},
   "execution_count": null
  },
  {
   "cell_type": "markdown",
   "source": [
    "We'll first try the earlier simple model, but we won't freeze `λ`. Also, we won't\n",
    "specify a `half_life`, giving all the data equal weight."
   ],
   "metadata": {}
  },
  {
   "outputs": [],
   "cell_type": "code",
   "source": [
    "problem = CalibrationProblem(\n",
    "    times,\n",
    "    volumes,\n",
    "    bertalanffy;\n",
    "    learning_rate=0.001,\n",
    ")\n",
    "\n",
    "solve!(\n",
    "    problem,\n",
    "    Step(1),\n",
    "    InvalidValue(),\n",
    "    NumberLimit(6000),\n",
    ")\n",
    "plot(problem, label=\"bertalanffy\")"
   ],
   "metadata": {},
   "execution_count": null
  },
  {
   "cell_type": "markdown",
   "source": [
    "Let's try the 2D generalization of the General Bertalanffy model:"
   ],
   "metadata": {}
  },
  {
   "outputs": [],
   "cell_type": "code",
   "source": [
    "problem = CalibrationProblem(\n",
    "    times,\n",
    "    volumes,\n",
    "    bertalanffy2;\n",
    "    learning_rate=0.001,\n",
    ")\n",
    "\n",
    "solve!(\n",
    "    problem,\n",
    "    Step(1),\n",
    "    InvalidValue(),\n",
    "    NumberLimit(6000),\n",
    ")\n",
    "plot!(problem, label=\"bertalanffy2\")"
   ],
   "metadata": {},
   "execution_count": null
  },
  {
   "cell_type": "markdown",
   "source": [
    "Here's how we can inspect the final parameters:"
   ],
   "metadata": {}
  },
  {
   "outputs": [],
   "cell_type": "code",
   "source": [
    "solution(problem)"
   ],
   "metadata": {},
   "execution_count": null
  },
  {
   "cell_type": "markdown",
   "source": [
    "Or we can do:"
   ],
   "metadata": {}
  },
  {
   "outputs": [],
   "cell_type": "code",
   "source": [
    "solution(problem) |> pretty"
   ],
   "metadata": {},
   "execution_count": null
  },
  {
   "cell_type": "markdown",
   "source": [
    "And finally, we'll try a 2D neural ODE model, with fixed volume scale `v∞`."
   ],
   "metadata": {}
  },
  {
   "outputs": [],
   "cell_type": "code",
   "source": [
    "using Lux, Random"
   ],
   "metadata": {},
   "execution_count": null
  },
  {
   "cell_type": "markdown",
   "source": [
    "*Note well* the zero-initialization of weights in first layer:"
   ],
   "metadata": {}
  },
  {
   "outputs": [],
   "cell_type": "code",
   "source": [
    "network2 = Chain(\n",
    "    Dense(2, 2, Lux.tanh, init_weight=Lux.zeros64),\n",
    "    Dense(2, 2),\n",
    ")"
   ],
   "metadata": {},
   "execution_count": null
  },
  {
   "cell_type": "markdown",
   "source": [
    "Notice this network has a total of 12 parameters. To that we'll be adding the initial\n",
    "value `u0` of the latent variable. So this is a model with relatively high complexity\n",
    "for this problem."
   ],
   "metadata": {}
  },
  {
   "outputs": [],
   "cell_type": "code",
   "source": [
    "n2 = neural2(Xoshiro(123), network2) # `Xoshiro` is a random number generator"
   ],
   "metadata": {},
   "execution_count": null
  },
  {
   "cell_type": "markdown",
   "source": [
    "Note the reduced learning rate."
   ],
   "metadata": {}
  },
  {
   "outputs": [],
   "cell_type": "code",
   "source": [
    "v∞ = mean(volumes)\n",
    "\n",
    "problem = CalibrationProblem(\n",
    "    times,\n",
    "    volumes,\n",
    "    n2;\n",
    "    frozen = (; v∞),\n",
    "    learning_rate=0.001,\n",
    ")\n",
    "\n",
    "solve!(\n",
    "    problem,\n",
    "    Step(1),\n",
    "    InvalidValue(),\n",
    "    NumberLimit(6000),\n",
    ")\n",
    "plot!(\n",
    "    problem,\n",
    "    title = \"Model comparison for Patient B\",\n",
    "    label = \"neural2\",\n",
    "    legend=:inside,\n",
    ")"
   ],
   "metadata": {},
   "execution_count": null
  },
  {
   "outputs": [],
   "cell_type": "code",
   "source": [
    "savefig(joinpath(dir, \"patientB.png\"))"
   ],
   "metadata": {},
   "execution_count": null
  },
  {
   "cell_type": "markdown",
   "source": [
    "For a more principled comparison, we compare the models on a holdout set. We'll\n",
    "additionally throw in 1D neural ODE model."
   ],
   "metadata": {}
  },
  {
   "outputs": [],
   "cell_type": "code",
   "source": [
    "network1 = Chain(\n",
    "    Dense(1, 3, Lux.tanh, init_weight=Lux.zeros64),\n",
    "    Dense(3, 1),\n",
    ")\n",
    "\n",
    "n1 = neural(Xoshiro(123), network1)\n",
    "\n",
    "models = [bertalanffy, bertalanffy2, n1, n2]\n",
    "calibration_options = [\n",
    "    (frozen = (; λ=1/5), learning_rate=0.001, half_life=21), # bertalanffy\n",
    "    (frozen = (; λ=1/5), learning_rate=0.001, half_life=21), # bertalanffy2\n",
    "    (frozen = (; v∞), learning_rate=0.001, half_life=21), # neural\n",
    "    (frozen = (; v∞), learning_rate=0.001, half_life=21), # neural2\n",
    "]\n",
    "iterations = [6000, 6000, 6000, 6000]\n",
    "comparison = compare(times, volumes, models; calibration_options, iterations)"
   ],
   "metadata": {},
   "execution_count": null
  },
  {
   "outputs": [],
   "cell_type": "code",
   "source": [
    "plot(comparison)"
   ],
   "metadata": {},
   "execution_count": null
  },
  {
   "outputs": [],
   "cell_type": "code",
   "source": [
    "savefig(joinpath(dir, \"patientB_validation.png\"))"
   ],
   "metadata": {},
   "execution_count": null
  },
  {
   "cell_type": "markdown",
   "source": [
    "---\n",
    "\n",
    "*This notebook was generated using [Literate.jl](https://github.com/fredrikekre/Literate.jl).*"
   ],
   "metadata": {}
  }
 ],
 "nbformat_minor": 3,
 "metadata": {
  "language_info": {
   "file_extension": ".jl",
   "mimetype": "application/julia",
   "name": "julia",
   "version": "1.10.3"
  },
  "kernelspec": {
   "name": "julia-1.10",
   "display_name": "Julia 1.10.3",
   "language": "julia"
  }
 },
 "nbformat": 4
}
