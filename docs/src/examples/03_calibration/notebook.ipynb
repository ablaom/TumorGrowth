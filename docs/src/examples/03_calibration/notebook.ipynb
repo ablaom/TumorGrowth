{
 "cells": [
  {
   "cell_type": "markdown",
   "source": [
    "# Calibration workflows"
   ],
   "metadata": {}
  },
  {
   "cell_type": "markdown",
   "source": [
    "The code below is also available in\n",
    "[notebook](https://github.com/ablaom/TumorGrowth.jl/tree/dev/docs/src/examples/03_calibration/)\n",
    "form."
   ],
   "metadata": {}
  },
  {
   "outputs": [
    {
     "name": "stdout",
     "output_type": "stream",
     "text": [
      "  Activating project at `~/GoogleDrive/Julia/TumorGrowth/docs/src/examples/03_calibration`\n"
     ]
    }
   ],
   "cell_type": "code",
   "source": [
    "using Pkg\n",
    "dir = @__DIR__\n",
    "Pkg.activate(dir)\n",
    "Pkg.instantiate()\n",
    "\n",
    "using TumorGrowth\n",
    "using Statistics\n",
    "using Plots\n",
    "using IterationControl\n",
    "\n",
    "Plots.scalefontsizes() # reset font sizes\n",
    "Plots.scalefontsizes(0.85)"
   ],
   "metadata": {},
   "execution_count": 1
  },
  {
   "cell_type": "markdown",
   "source": [
    "## Data ingestion"
   ],
   "metadata": {}
  },
  {
   "cell_type": "markdown",
   "source": [
    "Get the records which have a least 6 measurements:"
   ],
   "metadata": {}
  },
  {
   "outputs": [],
   "cell_type": "code",
   "source": [
    "records = patient_data();\n",
    "records6 = filter(records) do record\n",
    "    record.readings >= 6\n",
    "end;"
   ],
   "metadata": {},
   "execution_count": 2
  },
  {
   "cell_type": "markdown",
   "source": [
    "## Helpers"
   ],
   "metadata": {}
  },
  {
   "cell_type": "markdown",
   "source": [
    "Wrapper to only apply control every 100 steps:"
   ],
   "metadata": {}
  },
  {
   "outputs": [
    {
     "output_type": "execute_result",
     "data": {
      "text/plain": "sometimes (generic function with 1 method)"
     },
     "metadata": {},
     "execution_count": 3
    }
   ],
   "cell_type": "code",
   "source": [
    "sometimes(control) = IterationControl.skip(control, predicate=100)"
   ],
   "metadata": {},
   "execution_count": 3
  },
  {
   "cell_type": "markdown",
   "source": [
    "Wrapper to only apply control after first 30 steps:"
   ],
   "metadata": {}
  },
  {
   "outputs": [
    {
     "output_type": "execute_result",
     "data": {
      "text/plain": "warmup (generic function with 1 method)"
     },
     "metadata": {},
     "execution_count": 4
    }
   ],
   "cell_type": "code",
   "source": [
    "warmup(control) = IterationControl.Warmup(control, 30)"
   ],
   "metadata": {},
   "execution_count": 4
  },
  {
   "cell_type": "markdown",
   "source": [
    "## Patient A - a volume that is mostly decreasiing"
   ],
   "metadata": {}
  },
  {
   "outputs": [
    {
     "output_type": "execute_result",
     "data": {
      "text/plain": "(Pt_hashID = \"19ce84cc1b10000b63820280995107c2-S1\", Study_Arm = InlineStrings.String15(\"Study_1_Arm_1\"), Study_id = 1, Arm_id = 1, T_weeks = [0.1, 6.0, 16.0, 24.0, 32.0, 39.0], T_days = [-12, 38, 106, 166, 222, 270], Lesion_diam = [14.0, 10.0, 9.0, 8.0, 8.0, 8.0], Lesion_vol = [1426.88, 520.0, 379.08, 266.24, 266.24, 266.24], Lesion_normvol = [0.000231515230057292, 8.4371439525252e-5, 6.15067794139087e-5, 4.3198177036929e-5, 4.3198177036929e-5, 4.3198177036929e-5], response = InlineStrings.String7(\"down\"), readings = 6)"
     },
     "metadata": {},
     "execution_count": 5
    }
   ],
   "cell_type": "code",
   "source": [
    "record = records6[2]"
   ],
   "metadata": {},
   "execution_count": 5
  },
  {
   "outputs": [],
   "cell_type": "code",
   "source": [
    "times = record.T_weeks\n",
    "volumes = record.Lesion_normvol;"
   ],
   "metadata": {},
   "execution_count": 6
  },
  {
   "cell_type": "markdown",
   "source": [
    "We'll try calibrating the generalized Bertalanffy model, `bertalanffy`, with fixed\n",
    "parameter `λ=1/5`:"
   ],
   "metadata": {}
  },
  {
   "outputs": [
    {
     "output_type": "execute_result",
     "data": {
      "text/plain": "CalibrationProblem: \n  model: bertalanffy\n  current solution: v0=0.000232  v∞=4.32e-5  ω=0.0432  λ=0.2"
     },
     "metadata": {},
     "execution_count": 7
    }
   ],
   "cell_type": "code",
   "source": [
    "problem = CalibrationProblem(\n",
    "    times,\n",
    "    volumes,\n",
    "    bertalanffy;\n",
    "    frozen=(; λ=1/5),\n",
    "    learning_rate=0.001,\n",
    "    half_life=21, # place greater weight on recent measurements\n",
    ")"
   ],
   "metadata": {},
   "execution_count": 7
  },
  {
   "cell_type": "markdown",
   "source": [
    "The controls in the `solve!` call below have the following interpretations:"
   ],
   "metadata": {}
  },
  {
   "cell_type": "markdown",
   "source": [
    "- `Step(1)`: compute 1 iteration at a time\n",
    "- `InvalidValue()`: to catch parameters going out of bounds\n",
    "- `NumberLimit(6000)`: stop after 6000 steps\n",
    "- `GL() |> warmup`:  stop using Prechelt's GL criterion after the warm-up period\n",
    "- `NumberSinceBest(10) |> warmup:  stop when it's 10 steps since the best so far\n",
    "- `Callback(prob-> (plot(prob); gui())) |> sometimes`: periodically plot the problem"
   ],
   "metadata": {}
  },
  {
   "cell_type": "markdown",
   "source": [
    "Some other possible controls are:"
   ],
   "metadata": {}
  },
  {
   "cell_type": "markdown",
   "source": [
    "- `TimeLimit(1/60)`: stop after 1 minute\n",
    "- `WithLossDo()`: log to `Info` the current loss"
   ],
   "metadata": {}
  },
  {
   "cell_type": "markdown",
   "source": [
    "See\n",
    "[IterationControl.jl](https://github.com/JuliaAI/IterationControl.jl?tab=readme-ov-file#controls-provided)\n",
    "for a complete list."
   ],
   "metadata": {}
  },
  {
   "outputs": [
    {
     "name": "stdout",
     "output_type": "stream",
     "text": [
      "[ Info: final loss: 5.190581338811233e-10\n",
      "[ Info: Stop triggered by NumberLimit(6000) stopping criterion. \n"
     ]
    }
   ],
   "cell_type": "code",
   "source": [
    "solve!(\n",
    "    problem,\n",
    "    Step(1),\n",
    "    InvalidValue(),\n",
    "    NumberLimit(6000),\n",
    "    GL() |> warmup,\n",
    "    NumberSinceBest(10)  |> warmup,\n",
    "    Callback(prob-> (plot(prob); gui())) |> sometimes,\n",
    ")\n",
    "gui()"
   ],
   "metadata": {},
   "execution_count": 8
  },
  {
   "outputs": [
    {
     "output_type": "execute_result",
     "data": {
      "text/plain": "8-element Vector{Float64}:\n 0.00022152247503693192\n 0.0001180049861840984\n 5.990483693858979e-5\n 4.433878258915783e-5\n 3.731322416306445e-5\n 3.4181697237280434e-5\n 3.386717191488983e-5\n 3.225813777978713e-5"
     },
     "metadata": {},
     "execution_count": 9
    }
   ],
   "cell_type": "code",
   "source": [
    "p = solution(problem)\n",
    "extended_times = vcat(times, [40.0, 47.0])\n",
    "bertalanffy(extended_times, p)"
   ],
   "metadata": {},
   "execution_count": 9
  },
  {
   "outputs": [],
   "cell_type": "code",
   "source": [
    "plot(problem, title=\"Patient A, λ=1/5 fixed\", color=:black)\n",
    "gui()"
   ],
   "metadata": {},
   "execution_count": 10
  },
  {
   "outputs": [
    {
     "output_type": "execute_result",
     "data": {
      "text/plain": "\"/Users/anthony/GoogleDrive/Julia/TumorGrowth/docs/src/examples/03_calibration/patientA.png\""
     },
     "metadata": {},
     "execution_count": 11
    }
   ],
   "cell_type": "code",
   "source": [
    "savefig(joinpath(dir, \"patientA.png\"))"
   ],
   "metadata": {},
   "execution_count": 11
  },
  {
   "cell_type": "markdown",
   "source": [
    "## Patient B - relapse following initial improvement"
   ],
   "metadata": {}
  },
  {
   "outputs": [],
   "cell_type": "code",
   "source": [
    "record = records6[10]\n",
    "\n",
    "times = record.T_weeks\n",
    "volumes = record.Lesion_normvol;"
   ],
   "metadata": {},
   "execution_count": 12
  },
  {
   "cell_type": "markdown",
   "source": [
    "We'll first try the earlier simple model, but we won't freeze `λ`. Also, we won't\n",
    "specify a `half_life`, giving all the data equal weight."
   ],
   "metadata": {}
  },
  {
   "outputs": [
    {
     "name": "stdout",
     "output_type": "stream",
     "text": [
      "[ Info: final loss: 0.00010518082495583373\n",
      "[ Info: Stop triggered by NumberLimit(6000) stopping criterion. \n"
     ]
    }
   ],
   "cell_type": "code",
   "source": [
    "problem = CalibrationProblem(\n",
    "    times,\n",
    "    volumes,\n",
    "    bertalanffy;\n",
    "    learning_rate=0.001,\n",
    ")\n",
    "\n",
    "solve!(\n",
    "    problem,\n",
    "    Step(1),\n",
    "    InvalidValue(),\n",
    "    NumberLimit(6000),\n",
    ")\n",
    "plot(problem, label=\"bertalanffy\")\n",
    "gui()"
   ],
   "metadata": {},
   "execution_count": 13
  },
  {
   "cell_type": "markdown",
   "source": [
    "Let's try the 2D generalization of the generalized Bertalanffy model:"
   ],
   "metadata": {}
  },
  {
   "outputs": [
    {
     "name": "stdout",
     "output_type": "stream",
     "text": [
      "[ Info: final loss: 0.0001486220557414735\n",
      "[ Info: Stop triggered by NumberLimit(1000) stopping criterion. \n",
      "[ Info: final loss: 0.0001486220557414735\n",
      "[ Info: Stop triggered by NumberLimit(1000) stopping criterion. \n",
      "[ Info: final loss: 1.0981748197354352e-5\n",
      "[ Info: Stop triggered by NumberLimit(6000) stopping criterion. \n"
     ]
    }
   ],
   "cell_type": "code",
   "source": [
    "problem = CalibrationProblem(\n",
    "    times,\n",
    "    volumes,\n",
    "    bertalanffy2;\n",
    "    learning_rate=0.001,\n",
    ")\n",
    "\n",
    "solve!(\n",
    "    problem,\n",
    "    Step(1),\n",
    "    InvalidValue(),\n",
    "    NumberLimit(6000),\n",
    ")\n",
    "plot!(problem, label=\"bertalanffy2\")\n",
    "gui()"
   ],
   "metadata": {},
   "execution_count": 14
  },
  {
   "cell_type": "markdown",
   "source": [
    "Here's how we can inspect the final parameters:"
   ],
   "metadata": {}
  },
  {
   "outputs": [
    {
     "output_type": "execute_result",
     "data": {
      "text/plain": "(v0 = 0.013418165323626751, v∞ = 0.0003759183541925138, ω = 0.12123897563008784, λ = 1.0752692228665386, γ = 0.7251887879657256)"
     },
     "metadata": {},
     "execution_count": 15
    }
   ],
   "cell_type": "code",
   "source": [
    "solution(problem)"
   ],
   "metadata": {},
   "execution_count": 15
  },
  {
   "cell_type": "markdown",
   "source": [
    "Or we can do:"
   ],
   "metadata": {}
  },
  {
   "outputs": [
    {
     "output_type": "execute_result",
     "data": {
      "text/plain": "\"v0=0.0134  v∞=0.000376  ω=0.121  λ=1.08  γ=0.725\""
     },
     "metadata": {},
     "execution_count": 16
    }
   ],
   "cell_type": "code",
   "source": [
    "solution(problem) |> pretty"
   ],
   "metadata": {},
   "execution_count": 16
  },
  {
   "cell_type": "markdown",
   "source": [
    "And finally, we'll try a 2D neural ODE model, with fixed volume scale `v∞`."
   ],
   "metadata": {}
  },
  {
   "outputs": [],
   "cell_type": "code",
   "source": [
    "using Lux, Random"
   ],
   "metadata": {},
   "execution_count": 17
  },
  {
   "cell_type": "markdown",
   "source": [
    "*Note well* the zero-initialization of weights in first layer:"
   ],
   "metadata": {}
  },
  {
   "outputs": [
    {
     "output_type": "execute_result",
     "data": {
      "text/plain": "Chain(\n    layer_1 = Dense(2 => 2, tanh_fast),  \u001b[90m# 6 parameters\u001b[39m\n    layer_2 = Dense(2 => 2),            \u001b[90m# 6 parameters\u001b[39m\n) \u001b[90m        # Total: \u001b[39m12 parameters,\n\u001b[90m          #        plus \u001b[39m0 states."
     },
     "metadata": {},
     "execution_count": 18
    }
   ],
   "cell_type": "code",
   "source": [
    "network2 = Chain(\n",
    "    Dense(2, 2, Lux.tanh, init_weight=Lux.zeros64),\n",
    "    Dense(2, 2),\n",
    ")"
   ],
   "metadata": {},
   "execution_count": 18
  },
  {
   "cell_type": "markdown",
   "source": [
    "Notice this network has a total of 12 parameters. To that we'll be adding the initial\n",
    "value `u0` of the latent variable. So this is a model with relatively high complexity\n",
    "for this problem."
   ],
   "metadata": {}
  },
  {
   "outputs": [
    {
     "output_type": "execute_result",
     "data": {
      "text/plain": "Neural2 model, (times, p) -> volumes, where length(p) = 14\n  transform: log"
     },
     "metadata": {},
     "execution_count": 19
    }
   ],
   "cell_type": "code",
   "source": [
    "n2 = neural2(Xoshiro(123), network2) # `Xoshiro` is a random number generator"
   ],
   "metadata": {},
   "execution_count": 19
  },
  {
   "cell_type": "markdown",
   "source": [
    "Note the reduced learning rate."
   ],
   "metadata": {}
  },
  {
   "outputs": [
    {
     "name": "stdout",
     "output_type": "stream",
     "text": [
      "[ Info: final loss: 4.9467503956431245e-6\n",
      "[ Info: Stop triggered by NumberLimit(6000) stopping criterion. \n"
     ]
    }
   ],
   "cell_type": "code",
   "source": [
    "v∞ = mean(volumes)\n",
    "\n",
    "problem = CalibrationProblem(\n",
    "    times,\n",
    "    volumes,\n",
    "    n2;\n",
    "    frozen = (; v∞),\n",
    "    learning_rate=0.001,\n",
    ")\n",
    "\n",
    "solve!(\n",
    "    problem,\n",
    "    Step(1),\n",
    "    InvalidValue(),\n",
    "    NumberLimit(6000),\n",
    ")\n",
    "plot!(\n",
    "    problem,\n",
    "    title = \"Model comparison for Patient B\",\n",
    "    label = \"neural2\",\n",
    "    legend=:inside,\n",
    ")\n",
    "gui()"
   ],
   "metadata": {},
   "execution_count": 20
  },
  {
   "outputs": [
    {
     "output_type": "execute_result",
     "data": {
      "text/plain": "\"/Users/anthony/GoogleDrive/Julia/TumorGrowth/docs/src/examples/03_calibration/patientB.png\""
     },
     "metadata": {},
     "execution_count": 21
    }
   ],
   "cell_type": "code",
   "source": [
    "savefig(joinpath(dir, \"patientB.png\"))"
   ],
   "metadata": {},
   "execution_count": 21
  },
  {
   "cell_type": "markdown",
   "source": [
    "For a more principled comparison, we compare the models on a holdout set. We'll\n",
    "additionally throw in 1D neural ODE model."
   ],
   "metadata": {}
  },
  {
   "outputs": [
    {
     "name": "stdout",
     "output_type": "stream",
     "text": [
      "[ Info: final loss: 3.415458712521392e-6\n",
      "[ Info: Stop triggered by NumberLimit(6000) stopping criterion. \n",
      "[ Info: final loss: 1.1667714559607785e-5\n",
      "[ Info: Stop triggered by NumberLimit(1000) stopping criterion. \n",
      "[ Info: final loss: 1.1667714559607785e-5\n",
      "[ Info: Stop triggered by NumberLimit(1000) stopping criterion. \n",
      "[ Info: final loss: 1.9388260359207588e-6\n",
      "[ Info: Stop triggered by NumberLimit(6000) stopping criterion. \n",
      "[ Info: final loss: 3.4931249788989927e-6\n",
      "[ Info: Stop triggered by NumberLimit(6000) stopping criterion. \n",
      "[ Info: final loss: 1.0700899882871228e-6\n",
      "[ Info: Stop triggered by NumberLimit(6000) stopping criterion. \n"
     ]
    },
    {
     "output_type": "execute_result",
     "data": {
      "text/plain": "ModelComparison with 3 holdouts:\n  metric: mae\n  bertalanffy: \t0.004676\n  bertalanffy2: \t0.002197\n  neural (12 params): \t0.004685\n  neural2 (14 params): \t0.004147"
     },
     "metadata": {},
     "execution_count": 22
    }
   ],
   "cell_type": "code",
   "source": [
    "network1 = Chain(\n",
    "    Dense(1, 3, Lux.tanh, init_weight=Lux.zeros64),\n",
    "    Dense(3, 1),\n",
    ")\n",
    "\n",
    "n1 = neural(Xoshiro(123), network1)\n",
    "\n",
    "models = [bertalanffy, bertalanffy2, n1, n2]\n",
    "calibration_options = [\n",
    "    (frozen = (; λ=1/5), learning_rate=0.001, half_life=21), # bertalanffy\n",
    "    (frozen = (; λ=1/5), learning_rate=0.001, half_life=21), # bertalanffy2\n",
    "    (frozen = (; v∞), learning_rate=0.001, half_life=21), # neural\n",
    "    (frozen = (; v∞), learning_rate=0.001, half_life=21), # neural2\n",
    "]\n",
    "n_iterations = [6000, 6000, 6000, 6000]\n",
    "comparison = compare(times, volumes, models; calibration_options, n_iterations)"
   ],
   "metadata": {},
   "execution_count": 22
  },
  {
   "outputs": [],
   "cell_type": "code",
   "source": [
    "plot(comparison)\n",
    "gui()"
   ],
   "metadata": {},
   "execution_count": 23
  },
  {
   "outputs": [
    {
     "output_type": "execute_result",
     "data": {
      "text/plain": "\"/Users/anthony/GoogleDrive/Julia/TumorGrowth/docs/src/examples/03_calibration/patientB_validation.png\""
     },
     "metadata": {},
     "execution_count": 24
    }
   ],
   "cell_type": "code",
   "source": [
    "savefig(joinpath(dir, \"patientB_validation.png\"))"
   ],
   "metadata": {},
   "execution_count": 24
  },
  {
   "cell_type": "markdown",
   "source": [
    "---\n",
    "\n",
    "*This notebook was generated using [Literate.jl](https://github.com/fredrikekre/Literate.jl).*"
   ],
   "metadata": {}
  }
 ],
 "nbformat_minor": 3,
 "metadata": {
  "language_info": {
   "file_extension": ".jl",
   "mimetype": "application/julia",
   "name": "julia",
   "version": "1.10.3"
  },
  "kernelspec": {
   "name": "julia-1.10",
   "display_name": "Julia 1.10.3",
   "language": "julia"
  }
 },
 "nbformat": 4
}
