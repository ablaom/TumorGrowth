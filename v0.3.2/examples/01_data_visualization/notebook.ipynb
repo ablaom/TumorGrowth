{
 "cells": [
  {
   "outputs": [
    {
     "name": "stdout",
     "output_type": "stream",
     "text": [
      "  Activating project at `~/GoogleDrive/Julia/TumorGrowth/docs/src/examples/01_data_visualization`\n"
     ]
    },
    {
     "output_type": "execute_result",
     "data": {
      "text/plain": "1×5 Matrix{Symbol}:\n :solid  :dash  :dot  :dashdot  :dashdotdot"
     },
     "metadata": {},
     "execution_count": 1
    }
   ],
   "cell_type": "code",
   "source": [
    "using Pkg\n",
    "\n",
    "dir = @__DIR__\n",
    "Pkg.activate(dir)\n",
    "Pkg.instantiate()\n",
    "\n",
    "using TumorGrowth\n",
    "using Plots\n",
    "linestyles = [:solid :dash :dot :dashdot :dashdotdot]"
   ],
   "metadata": {},
   "execution_count": 1
  },
  {
   "cell_type": "markdown",
   "source": [
    "# DATA INGESTION"
   ],
   "metadata": {}
  },
  {
   "cell_type": "markdown",
   "source": [
    "Load the Laleh et al (2022) data set as a row table (vector of named tuples):"
   ],
   "metadata": {}
  },
  {
   "outputs": [],
   "cell_type": "code",
   "source": [
    "records = patient_data();"
   ],
   "metadata": {},
   "execution_count": 2
  },
  {
   "cell_type": "markdown",
   "source": [
    "Inspect the field names:"
   ],
   "metadata": {}
  },
  {
   "outputs": [
    {
     "output_type": "execute_result",
     "data": {
      "text/plain": "(:Pt_hashID, :Study_Arm, :Study_id, :Arm_id, :T_weeks, :T_days, :Lesion_diam, :Lesion_vol, :Lesion_normvol, :response, :readings)"
     },
     "metadata": {},
     "execution_count": 3
    }
   ],
   "cell_type": "code",
   "source": [
    "keys(first(records))"
   ],
   "metadata": {},
   "execution_count": 3
  },
  {
   "cell_type": "markdown",
   "source": [
    "Get the records which have a least 6 measurements and have \"fluctuating\" type:"
   ],
   "metadata": {}
  },
  {
   "outputs": [],
   "cell_type": "code",
   "source": [
    "records6 = filter(records) do record\n",
    "    record.readings >= 6 && record.response == \"flux\"\n",
    "end;"
   ],
   "metadata": {},
   "execution_count": 4
  },
  {
   "cell_type": "markdown",
   "source": [
    "Plot some of these records:"
   ],
   "metadata": {}
  },
  {
   "outputs": [],
   "cell_type": "code",
   "source": [
    "plt = plot(xlab=\"time\", ylab=\"volume (rescaled by maximum)\")\n",
    "for (i, record) in enumerate(records6[1:5])\n",
    "    times = record.T_weeks\n",
    "    volumes = record.Lesion_normvol\n",
    "    id = string(record.Pt_hashID[1:4], \"…\")\n",
    "    max = maximum(volumes)\n",
    "    plot!(times, volumes/max, label=id, linestyle=linestyles[i], linecolor=:black)\n",
    "end\n",
    "plot!(xlab=\"time\", ylab=\"volume\", title = \"Example of fluctuating responses\")\n",
    "gui()"
   ],
   "metadata": {},
   "execution_count": 5
  },
  {
   "outputs": [
    {
     "output_type": "execute_result",
     "data": {
      "text/plain": "\"/Users/anthony/GoogleDrive/Julia/TumorGrowth/docs/src/examples/01_data_visualization/fluctuating_patient_data.png\""
     },
     "metadata": {},
     "execution_count": 6
    }
   ],
   "cell_type": "code",
   "source": [
    "savefig(joinpath(dir, \"fluctuating_patient_data.png\"))"
   ],
   "metadata": {},
   "execution_count": 6
  },
  {
   "cell_type": "markdown",
   "source": [
    "---\n",
    "\n",
    "*This notebook was generated using [Literate.jl](https://github.com/fredrikekre/Literate.jl).*"
   ],
   "metadata": {}
  }
 ],
 "nbformat_minor": 3,
 "metadata": {
  "language_info": {
   "file_extension": ".jl",
   "mimetype": "application/julia",
   "name": "julia",
   "version": "1.10.3"
  },
  "kernelspec": {
   "name": "julia-1.10",
   "display_name": "Julia 1.10.3",
   "language": "julia"
  }
 },
 "nbformat": 4
}
