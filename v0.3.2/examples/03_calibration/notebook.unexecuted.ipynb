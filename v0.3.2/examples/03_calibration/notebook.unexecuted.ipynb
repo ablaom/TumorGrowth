{
 "cells": [
  {
   "cell_type": "markdown",
   "metadata": {},
   "source": [
    "# Calibration workflows"
   ]
  },
  {
   "cell_type": "markdown",
   "metadata": {},
   "source": [
    "This demonstration is also available in\n",
    "[notebook](https://github.com/ablaom/TumorGrowth.jl/tree/dev/docs/src/examples/03_calibration)\n",
    "form, and has been tested in the Julia package environment specified by\n",
    "[these](https://github.com/ablaom/TumorGrowth.jl/tree/dev/docs/src/examples/03_calibration)\n",
    "Project.toml and Manifest.toml files."
   ]
  },
  {
   "cell_type": "code",
   "execution_count": null,
   "metadata": {},
   "outputs": [],
   "source": [
    "using Pkg #hide\n",
    "dir = @__DIR__ #hide\n",
    "Pkg.activate(dir) #hide\n",
    "Pkg.instantiate() #hide\n",
    "\n",
    "using TumorGrowth\n",
    "using Statistics\n",
    "using Plots\n",
    "using IterationControl\n",
    "\n",
    "Plots.scalefontsizes() # reset font sizes\n",
    "Plots.scalefontsizes(0.85)"
   ]
  },
  {
   "cell_type": "markdown",
   "metadata": {},
   "source": [
    "## Data ingestion"
   ]
  },
  {
   "cell_type": "markdown",
   "metadata": {},
   "source": [
    "Get the records which have a least 6 measurements:"
   ]
  },
  {
   "cell_type": "code",
   "execution_count": null,
   "metadata": {},
   "outputs": [],
   "source": [
    "records = patient_data();\n",
    "records6 = filter(records) do record\n",
    "    record.readings >= 6\n",
    "end;"
   ]
  },
  {
   "cell_type": "markdown",
   "metadata": {},
   "source": [
    "## Helpers"
   ]
  },
  {
   "cell_type": "markdown",
   "metadata": {},
   "source": [
    "Wrapper to only apply control every 100 steps:"
   ]
  },
  {
   "cell_type": "code",
   "execution_count": null,
   "metadata": {},
   "outputs": [],
   "source": [
    "sometimes(control) = IterationControl.skip(control, predicate=100)"
   ]
  },
  {
   "cell_type": "markdown",
   "metadata": {},
   "source": [
    "Wrapper to only apply control after first 30 steps:"
   ]
  },
  {
   "cell_type": "code",
   "execution_count": null,
   "metadata": {},
   "outputs": [],
   "source": [
    "warmup(control) = IterationControl.Warmup(control, 30)"
   ]
  },
  {
   "cell_type": "markdown",
   "metadata": {},
   "source": [
    "## Patient A - a volume that is mostly decreasiing"
   ]
  },
  {
   "cell_type": "code",
   "execution_count": null,
   "metadata": {},
   "outputs": [],
   "source": [
    "record = records6[2]"
   ]
  },
  {
   "cell_type": "code",
   "execution_count": null,
   "metadata": {},
   "outputs": [],
   "source": [
    "times = record.T_weeks\n",
    "volumes = record.Lesion_normvol;"
   ]
  },
  {
   "cell_type": "markdown",
   "metadata": {},
   "source": [
    "We'll try calibrating the General Bertalanffy model, `bertalanffy`, with fixed\n",
    "parameter `λ=1/5`:"
   ]
  },
  {
   "cell_type": "code",
   "execution_count": null,
   "metadata": {},
   "outputs": [],
   "source": [
    "problem = CalibrationProblem(\n",
    "    times,\n",
    "    volumes,\n",
    "    bertalanffy;\n",
    "    frozen=(; λ=1/5),\n",
    "    learning_rate=0.001,\n",
    "    half_life=21, # place greater weight on recent measurements\n",
    ")"
   ]
  },
  {
   "cell_type": "markdown",
   "metadata": {},
   "source": [
    "The controls in the `solve!` call below have the following interpretations:"
   ]
  },
  {
   "cell_type": "markdown",
   "metadata": {},
   "source": [
    "- `Step(1)`: compute 1 iteration at a time\n",
    "- `InvalidValue()`: to catch parameters going out of bounds\n",
    "- `NumberLimit(6000)`: stop after 6000 steps\n",
    "- `GL() |> warmup`:  stop using Prechelt's GL criterion after the warm-up period\n",
    "- `NumberSinceBest(10) |> warmup`:  stop when it's 10 steps since the best so far\n",
    "- `Callback(prob-> (plot(prob); gui())) |> sometimes`: periodically plot the problem"
   ]
  },
  {
   "cell_type": "markdown",
   "metadata": {},
   "source": [
    "Some other possible controls are:"
   ]
  },
  {
   "cell_type": "markdown",
   "metadata": {},
   "source": [
    "- `TimeLimit(1/60)`: stop after 1 minute\n",
    "- `WithLossDo()`: log to `Info` the current loss"
   ]
  },
  {
   "cell_type": "markdown",
   "metadata": {},
   "source": [
    "See\n",
    "[IterationControl.jl](https://github.com/JuliaAI/IterationControl.jl?tab=readme-ov-file#controls-provided)\n",
    "for a complete list."
   ]
  },
  {
   "cell_type": "code",
   "execution_count": null,
   "metadata": {},
   "outputs": [],
   "source": [
    "solve!(\n",
    "    problem,\n",
    "    Step(1),\n",
    "    InvalidValue(),\n",
    "    NumberLimit(6000),\n",
    "    GL() |> warmup,\n",
    "    NumberSinceBest(10)  |> warmup,\n",
    "    Callback(prob-> (plot(prob); gui())) |> sometimes,\n",
    ")"
   ]
  },
  {
   "cell_type": "code",
   "execution_count": null,
   "metadata": {},
   "outputs": [],
   "source": [
    "p = solution(problem)\n",
    "extended_times = vcat(times, [40.0, 47.0])\n",
    "bertalanffy(extended_times, p)"
   ]
  },
  {
   "cell_type": "code",
   "execution_count": null,
   "metadata": {},
   "outputs": [],
   "source": [
    "plot(problem, title=\"Patient A, λ=1/5 fixed\", color=:black)"
   ]
  },
  {
   "cell_type": "code",
   "execution_count": null,
   "metadata": {},
   "outputs": [],
   "source": [
    "savefig(joinpath(dir, \"patientA.png\"))"
   ]
  },
  {
   "cell_type": "markdown",
   "metadata": {},
   "source": [
    "## Patient B - relapse following initial improvement"
   ]
  },
  {
   "cell_type": "code",
   "execution_count": null,
   "metadata": {},
   "outputs": [],
   "source": [
    "record = records6[10]\n",
    "\n",
    "times = record.T_weeks\n",
    "volumes = record.Lesion_normvol;"
   ]
  },
  {
   "cell_type": "markdown",
   "metadata": {},
   "source": [
    "We'll first try the earlier simple model, but we won't freeze `λ`. Also, we won't\n",
    "specify a `half_life`, giving all the data equal weight."
   ]
  },
  {
   "cell_type": "code",
   "execution_count": null,
   "metadata": {},
   "outputs": [],
   "source": [
    "problem = CalibrationProblem(\n",
    "    times,\n",
    "    volumes,\n",
    "    bertalanffy;\n",
    "    learning_rate=0.001,\n",
    ")\n",
    "\n",
    "solve!(\n",
    "    problem,\n",
    "    Step(1),\n",
    "    InvalidValue(),\n",
    "    NumberLimit(6000),\n",
    ")\n",
    "plot(problem, label=\"bertalanffy\")"
   ]
  },
  {
   "cell_type": "markdown",
   "metadata": {},
   "source": [
    "Let's try the 2D generalization of the General Bertalanffy model:"
   ]
  },
  {
   "cell_type": "code",
   "execution_count": null,
   "metadata": {},
   "outputs": [],
   "source": [
    "problem = CalibrationProblem(\n",
    "    times,\n",
    "    volumes,\n",
    "    bertalanffy2;\n",
    "    learning_rate=0.001,\n",
    ")\n",
    "\n",
    "solve!(\n",
    "    problem,\n",
    "    Step(1),\n",
    "    InvalidValue(),\n",
    "    NumberLimit(6000),\n",
    ")\n",
    "plot!(problem, label=\"bertalanffy2\")"
   ]
  },
  {
   "cell_type": "markdown",
   "metadata": {},
   "source": [
    "Here's how we can inspect the final parameters:"
   ]
  },
  {
   "cell_type": "code",
   "execution_count": null,
   "metadata": {},
   "outputs": [],
   "source": [
    "solution(problem)"
   ]
  },
  {
   "cell_type": "markdown",
   "metadata": {},
   "source": [
    "Or we can do:"
   ]
  },
  {
   "cell_type": "code",
   "execution_count": null,
   "metadata": {},
   "outputs": [],
   "source": [
    "solution(problem) |> pretty"
   ]
  },
  {
   "cell_type": "markdown",
   "metadata": {},
   "source": [
    "And finally, we'll try a 2D neural ODE model, with fixed volume scale `v∞`."
   ]
  },
  {
   "cell_type": "code",
   "execution_count": null,
   "metadata": {},
   "outputs": [],
   "source": [
    "using Lux, Random"
   ]
  },
  {
   "cell_type": "markdown",
   "metadata": {},
   "source": [
    "*Note well* the zero-initialization of weights in first layer:"
   ]
  },
  {
   "cell_type": "code",
   "execution_count": null,
   "metadata": {},
   "outputs": [],
   "source": [
    "network2 = Chain(\n",
    "    Dense(2, 2, Lux.tanh, init_weight=Lux.zeros64),\n",
    "    Dense(2, 2),\n",
    ")"
   ]
  },
  {
   "cell_type": "markdown",
   "metadata": {},
   "source": [
    "Notice this network has a total of 12 parameters. To that we'll be adding the initial\n",
    "value `u0` of the latent variable. So this is a model with relatively high complexity\n",
    "for this problem."
   ]
  },
  {
   "cell_type": "code",
   "execution_count": null,
   "metadata": {},
   "outputs": [],
   "source": [
    "n2 = neural2(Xoshiro(123), network2) # `Xoshiro` is a random number generator"
   ]
  },
  {
   "cell_type": "markdown",
   "metadata": {},
   "source": [
    "Note the reduced learning rate."
   ]
  },
  {
   "cell_type": "code",
   "execution_count": null,
   "metadata": {},
   "outputs": [],
   "source": [
    "v∞ = mean(volumes)\n",
    "\n",
    "problem = CalibrationProblem(\n",
    "    times,\n",
    "    volumes,\n",
    "    n2;\n",
    "    frozen = (; v∞),\n",
    "    learning_rate=0.001,\n",
    ")\n",
    "\n",
    "solve!(\n",
    "    problem,\n",
    "    Step(1),\n",
    "    InvalidValue(),\n",
    "    NumberLimit(6000),\n",
    ")\n",
    "plot!(\n",
    "    problem,\n",
    "    title = \"Model comparison for Patient B\",\n",
    "    label = \"neural2\",\n",
    "    legend=:inside,\n",
    ")"
   ]
  },
  {
   "cell_type": "code",
   "execution_count": null,
   "metadata": {},
   "outputs": [],
   "source": [
    "savefig(joinpath(dir, \"patientB.png\"))"
   ]
  },
  {
   "cell_type": "markdown",
   "metadata": {},
   "source": [
    "For a more principled comparison, we compare the models on a holdout set. We'll\n",
    "additionally throw in 1D neural ODE model."
   ]
  },
  {
   "cell_type": "code",
   "execution_count": null,
   "metadata": {},
   "outputs": [],
   "source": [
    "network1 = Chain(\n",
    "    Dense(1, 3, Lux.tanh, init_weight=Lux.zeros64),\n",
    "    Dense(3, 1),\n",
    ")\n",
    "\n",
    "n1 = neural(Xoshiro(123), network1)\n",
    "\n",
    "models = [bertalanffy, bertalanffy2, n1, n2]\n",
    "calibration_options = [\n",
    "    (frozen = (; λ=1/5), learning_rate=0.001, half_life=21), # bertalanffy\n",
    "    (frozen = (; λ=1/5), learning_rate=0.001, half_life=21), # bertalanffy2\n",
    "    (frozen = (; v∞), learning_rate=0.001, half_life=21), # neural\n",
    "    (frozen = (; v∞), learning_rate=0.001, half_life=21), # neural2\n",
    "]\n",
    "iterations = [6000, 6000, 6000, 6000]\n",
    "comparison = compare(times, volumes, models; calibration_options, iterations)"
   ]
  },
  {
   "cell_type": "code",
   "execution_count": null,
   "metadata": {},
   "outputs": [],
   "source": [
    "plot(comparison)"
   ]
  },
  {
   "cell_type": "code",
   "execution_count": null,
   "metadata": {},
   "outputs": [],
   "source": [
    "savefig(joinpath(dir, \"patientB_validation.png\"))"
   ]
  },
  {
   "cell_type": "markdown",
   "metadata": {},
   "source": [
    "---\n",
    "\n",
    "*This notebook was generated using [Literate.jl](https://github.com/fredrikekre/Literate.jl).*"
   ]
  }
 ],
 "metadata": {
  "kernelspec": {
   "display_name": "Julia 1.10.3",
   "language": "julia",
   "name": "julia-1.10"
  },
  "language_info": {
   "file_extension": ".jl",
   "mimetype": "application/julia",
   "name": "julia",
   "version": "1.10.3"
  }
 },
 "nbformat": 4,
 "nbformat_minor": 4
}
